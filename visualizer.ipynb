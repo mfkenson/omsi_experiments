{
 "cells": [
  {
   "cell_type": "code",
   "execution_count": 1,
   "metadata": {},
   "outputs": [],
   "source": [
    "import pandas as pd\n",
    "import numpy as np\n",
    "import json\n",
    "import pathlib\n",
    "pd.options.plotting.backend = \"plotly\"\n"
   ]
  },
  {
   "cell_type": "code",
   "execution_count": 2,
   "metadata": {},
   "outputs": [],
   "source": [
    "\n",
    "# remove invalid filename characters\n",
    "def slugify(value):\n",
    "    return \"\".join(x for x in value if x.isalnum())\n",
    "\n",
    "def generate_plots(save_path, is_v0):\n",
    "    # Load data from json\n",
    "    json_path = save_path / 'profiler_dump.json'\n",
    "    data = json.load(open(str(json_path)))\n",
    "    keys = [k for k in data.keys()]\n",
    "\n",
    "    ## Mean Accuracy Plot\n",
    "    accumalted_scores = []\n",
    "    selected_record = data['selected_record']\n",
    "    for i in range(len(selected_record)):\n",
    "        accumalted_scores.append(selected_record[i][-2])\n",
    "    df = pd.DataFrame(accumalted_scores, index=range(len(accumalted_scores)), columns =['y'])\n",
    "    df.index.name = 'Time'\n",
    "    y_name = 'Mean accuracy (%)'\n",
    "    df[y_name] = 100.0*df.rolling(window=MEAN_WINDOW_SIZE).mean()\n",
    "    fig = df.reset_index().plot.line(x='Time', y=y_name, width=FIG_WIDTH, height=FIG_HEIGHT)\n",
    "    if ENABLE_SAVE_IMAGE: fig.write_image( str(savepath / (slugify(y_name) + \".png\")))\n",
    "    else: fig.show()\n",
    "        \n",
    "    ## Mean Contol elapsed Time Plot\n",
    "    load_model_ms = data['load_model_ms']\n",
    "    iter_ms = data['iter_ms']\n",
    "\n",
    "    contol_elapsed_over_t = []\n",
    "    model_over_t = []\n",
    "\n",
    "    for i in range(len(selected_record)):\n",
    "        inference_ms = selected_record[i][-1]\n",
    "        contol_elapsed_over_t.append(iter_ms[i] - load_model_ms[i] - inference_ms)\n",
    "        if is_v0:\n",
    "            model_over_t.append(lookup[selected_record[i][0]])\n",
    "\n",
    "\n",
    "    fps_over_t = []\n",
    "    for i in range(len(iter_ms)):\n",
    "        fps_over_t.append(1000/iter_ms[i])\n",
    "\n",
    "    y_name = 'Mean Control Elapsed Time (ms)'\n",
    "    df = pd.DataFrame(contol_elapsed_over_t, index=range(len(contol_elapsed_over_t)), columns =['y'])\n",
    "    df.index.name = 'Time'\n",
    "    df[y_name] = df.rolling(window=MEAN_WINDOW_SIZE).mean()\n",
    "    fig = df.reset_index().plot.line(x='Time', y=y_name, width=FIG_WIDTH, height=FIG_HEIGHT)\n",
    "    #fig.update_yaxes(range=[0, 3])\n",
    "    if ENABLE_SAVE_IMAGE: fig.write_image( str(savepath / (slugify(y_name) + \".png\")))\n",
    "    else: fig.show()\n",
    "\n",
    "    ## Mean FPS Plot\n",
    "    y_name = 'Mean FPS'\n",
    "    df = pd.DataFrame(fps_over_t, index=range(len(fps_over_t)), columns =['y'])\n",
    "    df.index.name = 'Time'\n",
    "    df[y_name] = df.rolling(window=MEAN_WINDOW_SIZE).mean()\n",
    "    fig = df.reset_index().plot.line(x='Time', y=y_name, width=FIG_WIDTH, height=FIG_HEIGHT)\n",
    "    #fig.update_yaxes(range=[0, 80])\n",
    "    if ENABLE_SAVE_IMAGE: fig.write_image( str(savepath / (slugify(y_name) + \".png\")))\n",
    "    else: fig.show()\n",
    "\n",
    "    y_name = 'Load Model elapsed time (ms)'\n",
    "    df = pd.DataFrame(load_model_ms, index=range(len(load_model_ms)), columns =['y'])\n",
    "    df.index.name = 'Time'\n",
    "    #df[y_name] = df.rolling(window=1).mean()\n",
    "    fig = df.reset_index().plot.line(x='Time', y='y', width=FIG_WIDTH, height=FIG_HEIGHT)\n",
    "    #fig.update_yaxes(range=[0, 80])\n",
    "    if ENABLE_SAVE_IMAGE: fig.write_image( str(savepath / (slugify(y_name) + \".png\")))\n",
    "    else: fig.show()\n",
    "\n",
    "    if is_v0:\n",
    "        y_name = 'Selected Model'\n",
    "        df = pd.DataFrame(model_over_t, index=range(len(model_over_t)), columns =['y'])\n",
    "        df.index.name = 'Time'\n",
    "        #df[y_name] = df.rolling(window=1).mean()\n",
    "        fig = df.reset_index().plot.scatter(x='Time', y='y', width=FIG_WIDTH, height=FIG_HEIGHT)\n",
    "        #fig.update_yaxes(range=[0, 80])\n",
    "        if ENABLE_SAVE_IMAGE: fig.write_image( str(savepath / (slugify(y_name) + \".png\")))\n",
    "        else: fig.show()\n",
    "    "
   ]
  },
  {
   "cell_type": "code",
   "execution_count": 8,
   "metadata": {},
   "outputs": [],
   "source": [
    "\n",
    "MEAN_WINDOW_SIZE = 200\n",
    "FIG_WIDTH= 1000\n",
    "FIG_HEIGHT = 600\n",
    "\n",
    "ENABLE_SAVE_IMAGE = True\n",
    "\n",
    "\n",
    "lookup = {\n",
    "    'mobilenet_34.67_66.84': 'mobilenet_34.67_66.84',\n",
    "    'mobilenet_36.04_37.97': 'mobilenet_36.04_37.97',\n",
    "    'mobilenet_41.75_33.35': 'mobilenet_41.75_33.35',\n",
    "    'resnet18_39.52_66.54': 'resnet18_39.52_66.54',\n",
    "    'resnet18_40.87_46.49': 'resnet18_40.87_46.49',\n",
    "    'resnet18_42.63_15.38': 'resnet18_42.63_15.38',\n",
    "    'resnet18_58.17_71.87': 'resnet18_58.17_71.87',\n",
    "    'resnet18_58.66_55.21': 'resnet18_58.66_55.21',\n",
    "}\n",
    "\n",
    "paths = [x for x in (pathlib.Path.cwd() / 'jetson-nano-4gb').iterdir() if x.is_dir() and x.name.startswith('jetson_v1')]\n",
    "#paths = [x for x in (pathlib.Path.cwd() / 'laptop-gtx1650').iterdir() if x.is_dir() and x.name.startswith('laptop_v1')]\n",
    "for savepath in paths:\n",
    "    generate_plots(savepath, False)\n",
    "#savepath.mkdir(parents=True, exist_ok=True)"
   ]
  },
  {
   "cell_type": "code",
   "execution_count": 5,
   "metadata": {},
   "outputs": [
    {
     "name": "stdout",
     "output_type": "stream",
     "text": [
      "\n"
     ]
    }
   ],
   "source": [
    "'''\n",
    "paths = [x for x in (pathlib.Path.cwd() / 'laptop-gtx1650').iterdir() if x.is_dir() and x.name.startswith('laptop')]\n",
    "for savepath in paths:\n",
    "    for ppp in savepath.iterdir():\n",
    "        if ppp.name.endswith('FPS.png'):\n",
    "            ppp.unlink()\n",
    "'''\n",
    "print('')"
   ]
  },
  {
   "cell_type": "code",
   "execution_count": null,
   "metadata": {},
   "outputs": [],
   "source": []
  }
 ],
 "metadata": {
  "kernelspec": {
   "display_name": "Python 3",
   "language": "python",
   "name": "python3"
  },
  "language_info": {
   "codemirror_mode": {
    "name": "ipython",
    "version": 3
   },
   "file_extension": ".py",
   "mimetype": "text/x-python",
   "name": "python",
   "nbconvert_exporter": "python",
   "pygments_lexer": "ipython3",
   "version": "3.8.5"
  }
 },
 "nbformat": 4,
 "nbformat_minor": 4
}
